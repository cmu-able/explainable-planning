{
 "cells": [
  {
   "cell_type": "code",
   "execution_count": 36,
   "metadata": {
    "collapsed": true,
    "deletable": true,
    "editable": true
   },
   "outputs": [],
   "source": [
    "import pandas as pd\n",
    "import matplotlib.pyplot as plt\n",
    "import seaborn as sns\n",
    "%matplotlib inline"
   ]
  },
  {
   "cell_type": "code",
   "execution_count": 44,
   "metadata": {
    "collapsed": false,
    "deletable": true,
    "editable": true
   },
   "outputs": [],
   "source": [
    "df_assignments = pd.read_csv('../XPlanningEvaluation/resources/mobilerobot/study/prefalign/mturk/assignments/assignments_control_pilot.csv')\n",
    "df_answers = pd.read_csv('../XPlanningEvaluation/resources/mobilerobot/study/prefalign/mturk/assignments/answerKey.csv')"
   ]
  },
  {
   "cell_type": "code",
   "execution_count": 45,
   "metadata": {
    "collapsed": false,
    "deletable": true,
    "editable": true
   },
   "outputs": [
    {
     "data": {
      "text/html": [
       "<div>\n",
       "<table border=\"1\" class=\"dataframe\">\n",
       "  <thead>\n",
       "    <tr style=\"text-align: right;\">\n",
       "      <th></th>\n",
       "      <th>HIT Index</th>\n",
       "      <th>HIT ID</th>\n",
       "      <th>HITType ID</th>\n",
       "      <th>Assignment ID</th>\n",
       "      <th>Worker ID</th>\n",
       "      <th>Total Time (seconds)</th>\n",
       "      <th>question0-ref</th>\n",
       "      <th>question0-total-cost</th>\n",
       "      <th>question0-answer</th>\n",
       "      <th>question0-confidence</th>\n",
       "      <th>...</th>\n",
       "      <th>question2-ref</th>\n",
       "      <th>question2-total-cost</th>\n",
       "      <th>question2-answer</th>\n",
       "      <th>question2-confidence</th>\n",
       "      <th>question2-elapsedTime</th>\n",
       "      <th>question3-ref</th>\n",
       "      <th>question3-total-cost</th>\n",
       "      <th>question3-answer</th>\n",
       "      <th>question3-confidence</th>\n",
       "      <th>question3-elapsedTime</th>\n",
       "    </tr>\n",
       "  </thead>\n",
       "  <tbody>\n",
       "    <tr>\n",
       "      <th>0</th>\n",
       "      <td>0</td>\n",
       "      <td>3DA79LNS5BUFGPY5EWOOUP3IBBRT3B</td>\n",
       "      <td>38LKVYAVXNLXZEHLU5RXP72A0ALJQ7</td>\n",
       "      <td>3ON104KXQNVVDMJXZH3KFYYCRITW4N</td>\n",
       "      <td>A2CK0OXMPOR9LE</td>\n",
       "      <td>941</td>\n",
       "      <td>question-mission12-agent0</td>\n",
       "      <td>206.0</td>\n",
       "      <td>yes</td>\n",
       "      <td>fairly</td>\n",
       "      <td>...</td>\n",
       "      <td>question-mission26-agent0</td>\n",
       "      <td>173</td>\n",
       "      <td>no</td>\n",
       "      <td>fairly</td>\n",
       "      <td>31609</td>\n",
       "      <td>question-mission74-agent2</td>\n",
       "      <td>199</td>\n",
       "      <td>yes</td>\n",
       "      <td>fairly</td>\n",
       "      <td>20833</td>\n",
       "    </tr>\n",
       "    <tr>\n",
       "      <th>1</th>\n",
       "      <td>0</td>\n",
       "      <td>3DA79LNS5BUFGPY5EWOOUP3IBBRT3B</td>\n",
       "      <td>38LKVYAVXNLXZEHLU5RXP72A0ALJQ7</td>\n",
       "      <td>39ASUFLU606SUOLGYSBJQ3OAD9WEX7</td>\n",
       "      <td>AOSLTO4W2A476</td>\n",
       "      <td>640</td>\n",
       "      <td>question-mission12-agent0</td>\n",
       "      <td>218.0</td>\n",
       "      <td>no</td>\n",
       "      <td>slightly</td>\n",
       "      <td>...</td>\n",
       "      <td>question-mission26-agent0</td>\n",
       "      <td>173</td>\n",
       "      <td>yes</td>\n",
       "      <td>somewhat</td>\n",
       "      <td>53269</td>\n",
       "      <td>question-mission74-agent2</td>\n",
       "      <td>199</td>\n",
       "      <td>yes</td>\n",
       "      <td>fairly</td>\n",
       "      <td>31549</td>\n",
       "    </tr>\n",
       "    <tr>\n",
       "      <th>2</th>\n",
       "      <td>1</td>\n",
       "      <td>3JUDR1D0D8QD3RAUTSGO6AN3LSYQ2T</td>\n",
       "      <td>38LKVYAVXNLXZEHLU5RXP72A0ALJQ7</td>\n",
       "      <td>3VFJCI1K42Y6H6VVVOVF1ONYPI8RG7</td>\n",
       "      <td>A1P6OXEJ86HQRM</td>\n",
       "      <td>702</td>\n",
       "      <td>question-mission13-agent0</td>\n",
       "      <td>393.0</td>\n",
       "      <td>yes</td>\n",
       "      <td>slightly</td>\n",
       "      <td>...</td>\n",
       "      <td>question-mission75-agent0</td>\n",
       "      <td>335</td>\n",
       "      <td>yes</td>\n",
       "      <td>somewhat</td>\n",
       "      <td>83625</td>\n",
       "      <td>question-mission54-agent0</td>\n",
       "      <td>303</td>\n",
       "      <td>yes</td>\n",
       "      <td>fairly</td>\n",
       "      <td>63959</td>\n",
       "    </tr>\n",
       "    <tr>\n",
       "      <th>3</th>\n",
       "      <td>2</td>\n",
       "      <td>3S37Y8CWIAZSQ2L39FYIRE2NT96W4Y</td>\n",
       "      <td>3FRA5KKDL5PR1J2R6IAJ4VQ4OZX29J</td>\n",
       "      <td>3X87C8JFV9A9VAPMD90WLCWWHAGQSB</td>\n",
       "      <td>A3SKEW89V5S0DI</td>\n",
       "      <td>783</td>\n",
       "      <td>question-mission24-agent0</td>\n",
       "      <td>324.0</td>\n",
       "      <td>yes</td>\n",
       "      <td>fairly</td>\n",
       "      <td>...</td>\n",
       "      <td>question-mission37-agent0</td>\n",
       "      <td>314</td>\n",
       "      <td>yes</td>\n",
       "      <td>fairly</td>\n",
       "      <td>136718</td>\n",
       "      <td>question-mission10-agent0</td>\n",
       "      <td>506</td>\n",
       "      <td>yes</td>\n",
       "      <td>fairly</td>\n",
       "      <td>83462</td>\n",
       "    </tr>\n",
       "    <tr>\n",
       "      <th>4</th>\n",
       "      <td>2</td>\n",
       "      <td>3S37Y8CWIAZSQ2L39FYIRE2NT96W4Y</td>\n",
       "      <td>3FRA5KKDL5PR1J2R6IAJ4VQ4OZX29J</td>\n",
       "      <td>3CCZ6YKWRAI2X9APKBC266WFTQ6594</td>\n",
       "      <td>A27SMEOPKV84VI</td>\n",
       "      <td>485</td>\n",
       "      <td>question-mission24-agent0</td>\n",
       "      <td>324.0</td>\n",
       "      <td>yes</td>\n",
       "      <td>fairly</td>\n",
       "      <td>...</td>\n",
       "      <td>question-mission37-agent0</td>\n",
       "      <td>314</td>\n",
       "      <td>yes</td>\n",
       "      <td>completely</td>\n",
       "      <td>76541</td>\n",
       "      <td>question-mission10-agent0</td>\n",
       "      <td>506</td>\n",
       "      <td>yes</td>\n",
       "      <td>completely</td>\n",
       "      <td>93909</td>\n",
       "    </tr>\n",
       "  </tbody>\n",
       "</table>\n",
       "<p>5 rows × 26 columns</p>\n",
       "</div>"
      ],
      "text/plain": [
       "   HIT Index                          HIT ID                      HITType ID  \\\n",
       "0          0  3DA79LNS5BUFGPY5EWOOUP3IBBRT3B  38LKVYAVXNLXZEHLU5RXP72A0ALJQ7   \n",
       "1          0  3DA79LNS5BUFGPY5EWOOUP3IBBRT3B  38LKVYAVXNLXZEHLU5RXP72A0ALJQ7   \n",
       "2          1  3JUDR1D0D8QD3RAUTSGO6AN3LSYQ2T  38LKVYAVXNLXZEHLU5RXP72A0ALJQ7   \n",
       "3          2  3S37Y8CWIAZSQ2L39FYIRE2NT96W4Y  3FRA5KKDL5PR1J2R6IAJ4VQ4OZX29J   \n",
       "4          2  3S37Y8CWIAZSQ2L39FYIRE2NT96W4Y  3FRA5KKDL5PR1J2R6IAJ4VQ4OZX29J   \n",
       "\n",
       "                    Assignment ID       Worker ID  Total Time (seconds)  \\\n",
       "0  3ON104KXQNVVDMJXZH3KFYYCRITW4N  A2CK0OXMPOR9LE                   941   \n",
       "1  39ASUFLU606SUOLGYSBJQ3OAD9WEX7   AOSLTO4W2A476                   640   \n",
       "2  3VFJCI1K42Y6H6VVVOVF1ONYPI8RG7  A1P6OXEJ86HQRM                   702   \n",
       "3  3X87C8JFV9A9VAPMD90WLCWWHAGQSB  A3SKEW89V5S0DI                   783   \n",
       "4  3CCZ6YKWRAI2X9APKBC266WFTQ6594  A27SMEOPKV84VI                   485   \n",
       "\n",
       "               question0-ref  question0-total-cost question0-answer  \\\n",
       "0  question-mission12-agent0                 206.0              yes   \n",
       "1  question-mission12-agent0                 218.0               no   \n",
       "2  question-mission13-agent0                 393.0              yes   \n",
       "3  question-mission24-agent0                 324.0              yes   \n",
       "4  question-mission24-agent0                 324.0              yes   \n",
       "\n",
       "  question0-confidence          ...                       question2-ref  \\\n",
       "0               fairly          ...           question-mission26-agent0   \n",
       "1             slightly          ...           question-mission26-agent0   \n",
       "2             slightly          ...           question-mission75-agent0   \n",
       "3               fairly          ...           question-mission37-agent0   \n",
       "4               fairly          ...           question-mission37-agent0   \n",
       "\n",
       "  question2-total-cost  question2-answer question2-confidence  \\\n",
       "0                  173                no               fairly   \n",
       "1                  173               yes             somewhat   \n",
       "2                  335               yes             somewhat   \n",
       "3                  314               yes               fairly   \n",
       "4                  314               yes           completely   \n",
       "\n",
       "  question2-elapsedTime              question3-ref question3-total-cost  \\\n",
       "0                 31609  question-mission74-agent2                  199   \n",
       "1                 53269  question-mission74-agent2                  199   \n",
       "2                 83625  question-mission54-agent0                  303   \n",
       "3                136718  question-mission10-agent0                  506   \n",
       "4                 76541  question-mission10-agent0                  506   \n",
       "\n",
       "   question3-answer question3-confidence question3-elapsedTime  \n",
       "0               yes               fairly                 20833  \n",
       "1               yes               fairly                 31549  \n",
       "2               yes               fairly                 63959  \n",
       "3               yes               fairly                 83462  \n",
       "4               yes           completely                 93909  \n",
       "\n",
       "[5 rows x 26 columns]"
      ]
     },
     "execution_count": 45,
     "metadata": {},
     "output_type": "execute_result"
    }
   ],
   "source": [
    "df_assignments.head()"
   ]
  },
  {
   "cell_type": "code",
   "execution_count": 46,
   "metadata": {
    "collapsed": false,
    "deletable": true,
    "editable": true
   },
   "outputs": [
    {
     "data": {
      "text/html": [
       "<div>\n",
       "<table border=\"1\" class=\"dataframe\">\n",
       "  <thead>\n",
       "    <tr style=\"text-align: right;\">\n",
       "      <th></th>\n",
       "      <th>ref</th>\n",
       "      <th>total-cost</th>\n",
       "      <th>answer</th>\n",
       "    </tr>\n",
       "  </thead>\n",
       "  <tbody>\n",
       "    <tr>\n",
       "      <th>0</th>\n",
       "      <td>question-mission59-agent4</td>\n",
       "      <td>708</td>\n",
       "      <td>no</td>\n",
       "    </tr>\n",
       "    <tr>\n",
       "      <th>1</th>\n",
       "      <td>question-mission80-agent0</td>\n",
       "      <td>108</td>\n",
       "      <td>yes</td>\n",
       "    </tr>\n",
       "    <tr>\n",
       "      <th>2</th>\n",
       "      <td>question-mission42-agent7</td>\n",
       "      <td>709</td>\n",
       "      <td>no</td>\n",
       "    </tr>\n",
       "    <tr>\n",
       "      <th>3</th>\n",
       "      <td>question-mission66-agent0</td>\n",
       "      <td>875</td>\n",
       "      <td>yes</td>\n",
       "    </tr>\n",
       "    <tr>\n",
       "      <th>4</th>\n",
       "      <td>question-mission45-agent7</td>\n",
       "      <td>220</td>\n",
       "      <td>no</td>\n",
       "    </tr>\n",
       "  </tbody>\n",
       "</table>\n",
       "</div>"
      ],
      "text/plain": [
       "                         ref  total-cost answer\n",
       "0  question-mission59-agent4         708     no\n",
       "1  question-mission80-agent0         108    yes\n",
       "2  question-mission42-agent7         709     no\n",
       "3  question-mission66-agent0         875    yes\n",
       "4  question-mission45-agent7         220     no"
      ]
     },
     "execution_count": 46,
     "metadata": {},
     "output_type": "execute_result"
    }
   ],
   "source": [
    "df_answers.head()"
   ]
  },
  {
   "cell_type": "code",
   "execution_count": 47,
   "metadata": {
    "collapsed": true,
    "deletable": true,
    "editable": true
   },
   "outputs": [],
   "source": [
    "def create_columns(data_types, num_questions):\n",
    "    columns = ['HIT ID, Worker ID']\n",
    "    for i in range(num_questions):\n",
    "        for data_type in data_types:\n",
    "            columns.append('question' + str(i) + \"-\" + data_type)\n",
    "    return columns"
   ]
  },
  {
   "cell_type": "code",
   "execution_count": 48,
   "metadata": {
    "collapsed": true,
    "deletable": true,
    "editable": true
   },
   "outputs": [],
   "source": [
    "def create_data_type_columns(data_type, num_questions):\n",
    "    return ['question' + str(i) + '-' + data_type for i in range(num_questions)]"
   ]
  },
  {
   "cell_type": "code",
   "execution_count": 69,
   "metadata": {
    "collapsed": false,
    "deletable": true,
    "editable": true
   },
   "outputs": [],
   "source": [
    "# Accuracy of total-cost (%error) and answer (correct/incorrect) from workers\n",
    "accuracy_columns = create_columns(['ref', 'total-cost', 'answer'], 4)\n",
    "df_accuracy = pd.DataFrame(columns=accuracy_columns)\n",
    "\n",
    "# Score of answer-confidence combination\n",
    "score_columns = create_columns(['ref', 'confidence'], 4)\n",
    "df_score = pd.DataFrame(columns=score_columns)\n",
    "\n",
    "confidence_abs_scores = {'none': 0, 'slightly': 1, 'somewhat': 2, 'fairly': 3, 'completely': 4}\n",
    "\n",
    "for index, row in df_assignments.iterrows():\n",
    "    # ref: question-mission[i]-agent[j] is shared between assignments and answerKey tables\n",
    "    ref_columns = create_data_type_columns('ref', 4)\n",
    "    df_answer_key = df_answers[df_answers.ref.isin(row[ref_columns])]\n",
    "\n",
    "    # Data columns of interest for each question: total-cost, answer, confidence\n",
    "    total_cost_columns = create_data_type_columns('total-cost', 4)\n",
    "    answer_columns = create_data_type_columns('answer', 4)\n",
    "    confidence_columns = create_data_type_columns('confidence', 4)\n",
    "    \n",
    "    # Accuracy of total-cost and answer from workers\n",
    "    worker_acc_dict = {'HIT ID': row['HIT ID'], 'Worker ID': row['Worker ID']}\n",
    "    \n",
    "    # Score of answer-confidence combination\n",
    "    worker_score_dict = {'HIT ID': row['HIT ID'], 'Worker ID': row['Worker ID']}\n",
    "    \n",
    "    for i in range(4):\n",
    "        ref_column = ref_columns[i] # question[i]-ref\n",
    "        total_cost_column = total_cost_columns[i] # question[i]-total-cost\n",
    "        answer_column = answer_columns[i] # question[i]-answer\n",
    "        confidence_column = confidence_columns[i] # question[i]-confidence\n",
    "        \n",
    "        # total-cost and %error\n",
    "        worker_total_cost = row[total_cost_column]\n",
    "        correct_total_cost = df_answer_key[df_answer_key.ref == row[ref_column]].iloc[0]['total-cost']\n",
    "        total_cost_err = abs((correct_total_cost - worker_total_cost) / correct_total_cost)\n",
    "        \n",
    "        # answer and correct/incorrect\n",
    "        worker_answer = row[answer_column]\n",
    "        correct_answer = df_answer_key[df_answer_key.ref == row[ref_column]].iloc[0]['answer']\n",
    "        answer_acc = worker_answer == correct_answer\n",
    "        \n",
    "        # confidence and score\n",
    "        worker_confidence = row[confidence_column]\n",
    "        score = confidence_abs_scores[worker_confidence] if answer_acc else -1 * confidence_abs_scores[worker_confidence]\n",
    "        \n",
    "        # Accuracy dict\n",
    "        worker_acc_dict[ref_column] = row[ref_column]\n",
    "        worker_acc_dict[total_cost_column] = total_cost_err\n",
    "        worker_acc_dict[answer_column] = answer_acc\n",
    "        \n",
    "        # Score dict\n",
    "        worker_score_dict[ref_column] = row[ref_column]\n",
    "        worker_score_dict[confidence_column] = score\n",
    "        \n",
    "    df_accuracy = df_accuracy.append(worker_acc_dict, ignore_index=True)\n",
    "    df_score = df_score.append(worker_score_dict, ignore_index=True)"
   ]
  },
  {
   "cell_type": "code",
   "execution_count": 71,
   "metadata": {
    "collapsed": false
   },
   "outputs": [
    {
     "name": "stdout",
     "output_type": "stream",
     "text": [
      "                    Assignment ID              question0-ref  \\\n",
      "0  3ON104KXQNVVDMJXZH3KFYYCRITW4N  question-mission12-agent0   \n",
      "1  39ASUFLU606SUOLGYSBJQ3OAD9WEX7  question-mission12-agent0   \n",
      "2  3VFJCI1K42Y6H6VVVOVF1ONYPI8RG7  question-mission13-agent0   \n",
      "3  3X87C8JFV9A9VAPMD90WLCWWHAGQSB  question-mission24-agent0   \n",
      "4  3CCZ6YKWRAI2X9APKBC266WFTQ6594  question-mission24-agent0   \n",
      "5  3LO69W1SU6CVE80IQ4YJFCEZJU7LG7  question-mission25-agent2   \n",
      "6  3DBQWDE4Y9XNMBEJLLV7O7RZYGV5ND  question-mission25-agent2   \n",
      "\n",
      "   question0-total-cost question0-answer              question1-ref  \\\n",
      "0              0.000000             True  question-mission85-agent0   \n",
      "1              0.058252            False  question-mission85-agent0   \n",
      "2              0.000000             True  question-mission95-agent0   \n",
      "3              0.000000             True  question-mission94-agent0   \n",
      "4              0.000000             True  question-mission94-agent0   \n",
      "5              0.307317             True  question-mission82-agent0   \n",
      "6              0.059512            False  question-mission82-agent0   \n",
      "\n",
      "   question1-total-cost question1-answer              question2-ref  \\\n",
      "0              0.000000             True  question-mission26-agent0   \n",
      "1              0.722222             True  question-mission26-agent0   \n",
      "2              0.000000             True  question-mission75-agent0   \n",
      "3              0.000000             True  question-mission37-agent0   \n",
      "4              0.000000             True  question-mission37-agent0   \n",
      "5              0.000000             True  question-mission52-agent7   \n",
      "6              0.000000             True  question-mission52-agent7   \n",
      "\n",
      "   question2-total-cost question2-answer              question3-ref  \\\n",
      "0                   0.0            False  question-mission74-agent2   \n",
      "1                   0.0             True  question-mission74-agent2   \n",
      "2                   0.0             True  question-mission54-agent0   \n",
      "3                   0.0             True  question-mission10-agent0   \n",
      "4                   0.0             True  question-mission10-agent0   \n",
      "5                   0.0             True  question-mission11-agent0   \n",
      "6                   0.0             True  question-mission11-agent0   \n",
      "\n",
      "   question3-total-cost question3-answer  \n",
      "0                   0.0            False  \n",
      "1                   0.0            False  \n",
      "2                   0.0             True  \n",
      "3                   0.0             True  \n",
      "4                   0.0             True  \n",
      "5                   0.0            False  \n",
      "6                   0.0             True  \n"
     ]
    }
   ],
   "source": [
    "print(df_accuracy)"
   ]
  },
  {
   "cell_type": "code",
   "execution_count": 72,
   "metadata": {
    "collapsed": false
   },
   "outputs": [
    {
     "name": "stdout",
     "output_type": "stream",
     "text": [
      "  Assignment ID              question0-ref  question0-confidence  \\\n",
      "0           NaN  question-mission12-agent0                   3.0   \n",
      "1           NaN  question-mission12-agent0                  -1.0   \n",
      "2           NaN  question-mission13-agent0                   1.0   \n",
      "3           NaN  question-mission24-agent0                   3.0   \n",
      "4           NaN  question-mission24-agent0                   3.0   \n",
      "5           NaN  question-mission25-agent2                   2.0   \n",
      "6           NaN  question-mission25-agent2                  -3.0   \n",
      "\n",
      "               question1-ref  question1-confidence              question2-ref  \\\n",
      "0  question-mission85-agent0                   4.0  question-mission26-agent0   \n",
      "1  question-mission85-agent0                   4.0  question-mission26-agent0   \n",
      "2  question-mission95-agent0                   4.0  question-mission75-agent0   \n",
      "3  question-mission94-agent0                   4.0  question-mission37-agent0   \n",
      "4  question-mission94-agent0                   4.0  question-mission37-agent0   \n",
      "5  question-mission82-agent0                   3.0  question-mission52-agent7   \n",
      "6  question-mission82-agent0                   4.0  question-mission52-agent7   \n",
      "\n",
      "   question2-confidence              question3-ref  question3-confidence  \\\n",
      "0                  -3.0  question-mission74-agent2                  -3.0   \n",
      "1                   2.0  question-mission74-agent2                  -3.0   \n",
      "2                   2.0  question-mission54-agent0                   3.0   \n",
      "3                   3.0  question-mission10-agent0                   3.0   \n",
      "4                   4.0  question-mission10-agent0                   4.0   \n",
      "5                   3.0  question-mission11-agent0                  -2.0   \n",
      "6                   4.0  question-mission11-agent0                   3.0   \n",
      "\n",
      "                           HIT ID       Worker ID  \n",
      "0  3DA79LNS5BUFGPY5EWOOUP3IBBRT3B  A2CK0OXMPOR9LE  \n",
      "1  3DA79LNS5BUFGPY5EWOOUP3IBBRT3B   AOSLTO4W2A476  \n",
      "2  3JUDR1D0D8QD3RAUTSGO6AN3LSYQ2T  A1P6OXEJ86HQRM  \n",
      "3  3S37Y8CWIAZSQ2L39FYIRE2NT96W4Y  A3SKEW89V5S0DI  \n",
      "4  3S37Y8CWIAZSQ2L39FYIRE2NT96W4Y  A27SMEOPKV84VI  \n",
      "5  3HJ1EVZS2QI20ALDA7JTUA20NUWR36   A9HQ3E0F2AGVO  \n",
      "6  3HJ1EVZS2QI20ALDA7JTUA20NUWR36  A1IFIK8J49WBER  \n"
     ]
    }
   ],
   "source": [
    "print(df_score)"
   ]
  },
  {
   "cell_type": "code",
   "execution_count": 59,
   "metadata": {
    "collapsed": false,
    "deletable": true,
    "editable": true
   },
   "outputs": [
    {
     "name": "stderr",
     "output_type": "stream",
     "text": [
      "//anaconda/lib/python3.5/site-packages/ipykernel/__main__.py:1: FutureWarning: \n",
      "The default value for 'return_type' will change to 'axes' in a future release.\n",
      " To use the future behavior now, set return_type='axes'.\n",
      " To keep the previous behavior and silence this warning, set return_type='dict'.\n",
      "  if __name__ == '__main__':\n"
     ]
    },
    {
     "data": {
      "image/png": "[encoded data removed]",
      "text/plain": [
       "<matplotlib.figure.Figure at 0x12a908c88>"
      ]
     },
     "metadata": {},
     "output_type": "display_data"
    }
   ],
   "source": [
    "plot = df_accuracy.boxplot(column=['question0-total-cost'])"
   ]
  },
  {
   "cell_type": "code",
   "execution_count": 60,
   "metadata": {
    "collapsed": false,
    "deletable": true,
    "editable": true
   },
   "outputs": [
    {
     "name": "stderr",
     "output_type": "stream",
     "text": [
      "//anaconda/lib/python3.5/site-packages/ipykernel/__main__.py:1: FutureWarning: \n",
      "The default value for 'return_type' will change to 'axes' in a future release.\n",
      " To use the future behavior now, set return_type='axes'.\n",
      " To keep the previous behavior and silence this warning, set return_type='dict'.\n",
      "  if __name__ == '__main__':\n"
     ]
    },
    {
     "data": {
      "image/png": "[encoded data removed]",
      "text/plain": [
       "<matplotlib.figure.Figure at 0x12a67d390>"
      ]
     },
     "metadata": {},
     "output_type": "display_data"
    }
   ],
   "source": [
    "plot = df_accuracy.boxplot(column=['question1-total-cost'])"
   ]
  },
  {
   "cell_type": "code",
   "execution_count": 61,
   "metadata": {
    "collapsed": false,
    "deletable": true,
    "editable": true
   },
   "outputs": [
    {
     "name": "stderr",
     "output_type": "stream",
     "text": [
      "//anaconda/lib/python3.5/site-packages/ipykernel/__main__.py:1: FutureWarning: \n",
      "The default value for 'return_type' will change to 'axes' in a future release.\n",
      " To use the future behavior now, set return_type='axes'.\n",
      " To keep the previous behavior and silence this warning, set return_type='dict'.\n",
      "  if __name__ == '__main__':\n"
     ]
    },
    {
     "data": {
      "image/png": "[encoded data removed]",
      "text/plain": [
       "<matplotlib.figure.Figure at 0x124731a90>"
      ]
     },
     "metadata": {},
     "output_type": "display_data"
    }
   ],
   "source": [
    "plot = df_accuracy.boxplot(column=['question2-total-cost'])"
   ]
  },
  {
   "cell_type": "code",
   "execution_count": 62,
   "metadata": {
    "collapsed": false,
    "deletable": true,
    "editable": true
   },
   "outputs": [
    {
     "name": "stderr",
     "output_type": "stream",
     "text": [
      "//anaconda/lib/python3.5/site-packages/ipykernel/__main__.py:1: FutureWarning: \n",
      "The default value for 'return_type' will change to 'axes' in a future release.\n",
      " To use the future behavior now, set return_type='axes'.\n",
      " To keep the previous behavior and silence this warning, set return_type='dict'.\n",
      "  if __name__ == '__main__':\n"
     ]
    },
    {
     "data": {
      "image/png": "[encoded data removed]",
      "text/plain": [
       "<matplotlib.figure.Figure at 0x1247a74a8>"
      ]
     },
     "metadata": {},
     "output_type": "display_data"
    }
   ],
   "source": [
    "plot = df_accuracy.boxplot(column=['question3-total-cost'])"
   ]
  },
  {
   "cell_type": "code",
   "execution_count": 63,
   "metadata": {
    "collapsed": false,
    "deletable": true,
    "editable": true
   },
   "outputs": [
    {
     "data": {
      "text/plain": [
       "<matplotlib.text.Text at 0x1248b6e10>"
      ]
     },
     "execution_count": 63,
     "metadata": {},
     "output_type": "execute_result"
    },
    {
     "data": {
      "image/png": "[encoded data removed]",
      "text/plain": [
       "<matplotlib.figure.Figure at 0x1248a8160>"
      ]
     },
     "metadata": {},
     "output_type": "display_data"
    }
   ],
   "source": [
    "fig, axes = plt.subplots()\n",
    "# plot violin. 'Scenario' is according to x axis, \n",
    "# 'LMP' is y axis, data is your dataframe. ax - is axes instance\n",
    "\n",
    "sns.violinplot(y=df_accuracy['question0-total-cost'], bw=0.5, inner=\"quartile\")\n",
    "axes.set_ylabel('accuracy')"
   ]
  },
  {
   "cell_type": "code",
   "execution_count": 64,
   "metadata": {
    "collapsed": false,
    "deletable": true,
    "editable": true
   },
   "outputs": [
    {
     "data": {
      "text/plain": [
       "<matplotlib.text.Text at 0x1249c4550>"
      ]
     },
     "execution_count": 64,
     "metadata": {},
     "output_type": "execute_result"
    },
    {
     "data": {
      "image/png": "[encoded data removed]",
      "text/plain": [
       "<matplotlib.figure.Figure at 0x1249a5d68>"
      ]
     },
     "metadata": {},
     "output_type": "display_data"
    }
   ],
   "source": [
    "fig, axes = plt.subplots()\n",
    "# plot violin. 'Scenario' is according to x axis, \n",
    "# 'LMP' is y axis, data is your dataframe. ax - is axes instance\n",
    "\n",
    "sns.violinplot(y=df_accuracy['question1-total-cost'], bw=0.5, inner=\"quartile\")\n",
    "axes.set_ylabel('accuracy')"
   ]
  },
  {
   "cell_type": "code",
   "execution_count": 65,
   "metadata": {
    "collapsed": false
   },
   "outputs": [
    {
     "data": {
      "text/plain": [
       "<matplotlib.text.Text at 0x124aa4208>"
      ]
     },
     "execution_count": 65,
     "metadata": {},
     "output_type": "execute_result"
    },
    {
     "data": {
      "image/png": "[encoded data removed]",
      "text/plain": [
       "<matplotlib.figure.Figure at 0x1249d24e0>"
      ]
     },
     "metadata": {},
     "output_type": "display_data"
    }
   ],
   "source": [
    "fig, axes = plt.subplots()\n",
    "# plot violin. 'Scenario' is according to x axis, \n",
    "# 'LMP' is y axis, data is your dataframe. ax - is axes instance\n",
    "\n",
    "sns.violinplot(y=df_accuracy['question2-total-cost'], bw=0.5, inner=\"quartile\")\n",
    "axes.set_ylabel('accuracy')"
   ]
  },
  {
   "cell_type": "code",
   "execution_count": 66,
   "metadata": {
    "collapsed": false
   },
   "outputs": [
    {
     "data": {
      "text/plain": [
       "<matplotlib.text.Text at 0x129e95fd0>"
      ]
     },
     "execution_count": 66,
     "metadata": {},
     "output_type": "execute_result"
    },
    {
     "data": {
      "image/png": "[encoded data removed]",
      "text/plain": [
       "<matplotlib.figure.Figure at 0x124aa4518>"
      ]
     },
     "metadata": {},
     "output_type": "display_data"
    }
   ],
   "source": [
    "fig, axes = plt.subplots()\n",
    "# plot violin. 'Scenario' is according to x axis, \n",
    "# 'LMP' is y axis, data is your dataframe. ax - is axes instance\n",
    "\n",
    "sns.violinplot(y=df_accuracy['question3-total-cost'], bw=0.5, inner=\"quartile\")\n",
    "axes.set_ylabel('accuracy')"
   ]
  },
  {
   "cell_type": "code",
   "execution_count": null,
   "metadata": {
    "collapsed": true
   },
   "outputs": [],
   "source": []
  }
 ],
 "metadata": {
  "anaconda-cloud": {},
  "kernelspec": {
   "display_name": "Python [anaconda]",
   "language": "python",
   "name": "Python [anaconda]"
  },
  "language_info": {
   "codemirror_mode": {
    "name": "ipython",
    "version": 3
   },
   "file_extension": ".py",
   "mimetype": "text/x-python",
   "name": "python",
   "nbconvert_exporter": "python",
   "pygments_lexer": "ipython3",
   "version": "3.5.2"
  }
 },
 "nbformat": 4,
 "nbformat_minor": 0
}
