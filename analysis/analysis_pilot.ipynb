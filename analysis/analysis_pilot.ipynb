{
 "cells": [
  {
   "cell_type": "code",
   "execution_count": 115,
   "metadata": {
    "collapsed": true
   },
   "outputs": [],
   "source": [
    "import pandas as pd\n",
    "import matplotlib.pyplot as plt\n",
    "import seaborn as sns\n",
    "%matplotlib inline"
   ]
  },
  {
   "cell_type": "code",
   "execution_count": 6,
   "metadata": {
    "collapsed": true
   },
   "outputs": [],
   "source": [
    "df_assignments = pd.read_csv('../XPlanningEvaluation/resources/mobilerobot/study/mturk/assignments/assignments_control_pilot.csv')\n",
    "df_answers = pd.read_csv('../XPlanningEvaluation/resources/mobilerobot/study/mturk/assignments/answerKey.csv')"
   ]
  },
  {
   "cell_type": "code",
   "execution_count": 116,
   "metadata": {
    "collapsed": false
   },
   "outputs": [
    {
     "data": {
      "text/html": [
       "<div>\n",
       "<table border=\"1\" class=\"dataframe\">\n",
       "  <thead>\n",
       "    <tr style=\"text-align: right;\">\n",
       "      <th></th>\n",
       "      <th>HIT ID</th>\n",
       "      <th>HITType ID</th>\n",
       "      <th>Assignment ID</th>\n",
       "      <th>Worker ID</th>\n",
       "      <th>Total Time (seconds)</th>\n",
       "      <th>question0-ref</th>\n",
       "      <th>question0-total-cost</th>\n",
       "      <th>question0-answer</th>\n",
       "      <th>question0-confidence</th>\n",
       "      <th>question0-elapsedTime</th>\n",
       "      <th>...</th>\n",
       "      <th>question2-ref</th>\n",
       "      <th>question2-total-cost</th>\n",
       "      <th>question2-answer</th>\n",
       "      <th>question2-confidence</th>\n",
       "      <th>question2-elapsedTime</th>\n",
       "      <th>question3-ref</th>\n",
       "      <th>question3-total-cost</th>\n",
       "      <th>question3-answer</th>\n",
       "      <th>question3-confidence</th>\n",
       "      <th>question3-elapsedTime</th>\n",
       "    </tr>\n",
       "  </thead>\n",
       "  <tbody>\n",
       "    <tr>\n",
       "      <th>0</th>\n",
       "      <td>3H6W48L9F6OEFV7M7ZQ6UCDIJPTPWC</td>\n",
       "      <td>3PCDMC3F670H2FKP9YGXKYCMV2F2XT</td>\n",
       "      <td>37Q970SNZH7LE655SUAHKBOO7Z7S11</td>\n",
       "      <td>A2TBXASXZIRNNW</td>\n",
       "      <td>1401</td>\n",
       "      <td>question-mission59-agent4</td>\n",
       "      <td>313</td>\n",
       "      <td>yes</td>\n",
       "      <td>fairly</td>\n",
       "      <td>22331</td>\n",
       "      <td>...</td>\n",
       "      <td>question-mission42-agent7</td>\n",
       "      <td>673</td>\n",
       "      <td>no</td>\n",
       "      <td>fairly</td>\n",
       "      <td>18450</td>\n",
       "      <td>question-mission66-agent0</td>\n",
       "      <td>676</td>\n",
       "      <td>yes</td>\n",
       "      <td>fairly</td>\n",
       "      <td>27725</td>\n",
       "    </tr>\n",
       "    <tr>\n",
       "      <th>1</th>\n",
       "      <td>3SU800BH88RMN3JWCCQUCTIV354UQ9</td>\n",
       "      <td>3PCDMC3F670H2FKP9YGXKYCMV2F2XT</td>\n",
       "      <td>33M4IA01QJ0H3SQLKYVJPANTQC3RX4</td>\n",
       "      <td>A2TBXASXZIRNNW</td>\n",
       "      <td>937</td>\n",
       "      <td>question-mission45-agent7</td>\n",
       "      <td>224</td>\n",
       "      <td>yes</td>\n",
       "      <td>fairly</td>\n",
       "      <td>30361</td>\n",
       "      <td>...</td>\n",
       "      <td>question-mission69-agent0</td>\n",
       "      <td>187</td>\n",
       "      <td>no</td>\n",
       "      <td>somewhat</td>\n",
       "      <td>34956</td>\n",
       "      <td>question-mission5-agent0</td>\n",
       "      <td>173</td>\n",
       "      <td>yes</td>\n",
       "      <td>fairly</td>\n",
       "      <td>31508</td>\n",
       "    </tr>\n",
       "    <tr>\n",
       "      <th>2</th>\n",
       "      <td>3U18MJKL1WL5YCP4ATDDET1KRUANC5</td>\n",
       "      <td>3PCDMC3F670H2FKP9YGXKYCMV2F2XT</td>\n",
       "      <td>3SNVL38CI7R7DQ2V3IQZALG5U2LKC2</td>\n",
       "      <td>A2TBXASXZIRNNW</td>\n",
       "      <td>711</td>\n",
       "      <td>question-mission25-agent2</td>\n",
       "      <td>143</td>\n",
       "      <td>yes</td>\n",
       "      <td>fairly</td>\n",
       "      <td>40740</td>\n",
       "      <td>...</td>\n",
       "      <td>question-mission52-agent7</td>\n",
       "      <td>181</td>\n",
       "      <td>yes</td>\n",
       "      <td>somewhat</td>\n",
       "      <td>18559</td>\n",
       "      <td>question-mission11-agent0</td>\n",
       "      <td>173</td>\n",
       "      <td>yes</td>\n",
       "      <td>somewhat</td>\n",
       "      <td>26885</td>\n",
       "    </tr>\n",
       "    <tr>\n",
       "      <th>3</th>\n",
       "      <td>3NOEP8XAU61T4VCCH4MSWVRPSRZPX5</td>\n",
       "      <td>3PCDMC3F670H2FKP9YGXKYCMV2F2XT</td>\n",
       "      <td>3I2PTA7R3WTB7RCE80RUUQ5MYHMKQ7</td>\n",
       "      <td>A2TBXASXZIRNNW</td>\n",
       "      <td>1693</td>\n",
       "      <td>question-mission56-agent0</td>\n",
       "      <td>206</td>\n",
       "      <td>yes</td>\n",
       "      <td>fairly</td>\n",
       "      <td>18042</td>\n",
       "      <td>...</td>\n",
       "      <td>question-mission79-agent0</td>\n",
       "      <td>252</td>\n",
       "      <td>yes</td>\n",
       "      <td>somewhat</td>\n",
       "      <td>20281</td>\n",
       "      <td>question-mission8-agent0</td>\n",
       "      <td>209</td>\n",
       "      <td>yes</td>\n",
       "      <td>fairly</td>\n",
       "      <td>22578</td>\n",
       "    </tr>\n",
       "    <tr>\n",
       "      <th>4</th>\n",
       "      <td>3TFJJUELSJO99Q0BOAFTM5YMGZK2CU</td>\n",
       "      <td>3PCDMC3F670H2FKP9YGXKYCMV2F2XT</td>\n",
       "      <td>3X66WABAJZHEY4ATKYUJJQKIH8RG3X</td>\n",
       "      <td>A2TBXASXZIRNNW</td>\n",
       "      <td>820</td>\n",
       "      <td>question-mission34-agent1</td>\n",
       "      <td>198</td>\n",
       "      <td>yes</td>\n",
       "      <td>fairly</td>\n",
       "      <td>51333</td>\n",
       "      <td>...</td>\n",
       "      <td>question-mission14-agent0</td>\n",
       "      <td>154</td>\n",
       "      <td>yes</td>\n",
       "      <td>fairly</td>\n",
       "      <td>22397</td>\n",
       "      <td>question-mission48-agent6</td>\n",
       "      <td>163</td>\n",
       "      <td>no</td>\n",
       "      <td>somewhat</td>\n",
       "      <td>24789</td>\n",
       "    </tr>\n",
       "  </tbody>\n",
       "</table>\n",
       "<p>5 rows × 25 columns</p>\n",
       "</div>"
      ],
      "text/plain": [
       "                           HIT ID                      HITType ID  \\\n",
       "0  3H6W48L9F6OEFV7M7ZQ6UCDIJPTPWC  3PCDMC3F670H2FKP9YGXKYCMV2F2XT   \n",
       "1  3SU800BH88RMN3JWCCQUCTIV354UQ9  3PCDMC3F670H2FKP9YGXKYCMV2F2XT   \n",
       "2  3U18MJKL1WL5YCP4ATDDET1KRUANC5  3PCDMC3F670H2FKP9YGXKYCMV2F2XT   \n",
       "3  3NOEP8XAU61T4VCCH4MSWVRPSRZPX5  3PCDMC3F670H2FKP9YGXKYCMV2F2XT   \n",
       "4  3TFJJUELSJO99Q0BOAFTM5YMGZK2CU  3PCDMC3F670H2FKP9YGXKYCMV2F2XT   \n",
       "\n",
       "                    Assignment ID       Worker ID  Total Time (seconds)  \\\n",
       "0  37Q970SNZH7LE655SUAHKBOO7Z7S11  A2TBXASXZIRNNW  1401                   \n",
       "1  33M4IA01QJ0H3SQLKYVJPANTQC3RX4  A2TBXASXZIRNNW  937                    \n",
       "2  3SNVL38CI7R7DQ2V3IQZALG5U2LKC2  A2TBXASXZIRNNW  711                    \n",
       "3  3I2PTA7R3WTB7RCE80RUUQ5MYHMKQ7  A2TBXASXZIRNNW  1693                   \n",
       "4  3X66WABAJZHEY4ATKYUJJQKIH8RG3X  A2TBXASXZIRNNW  820                    \n",
       "\n",
       "               question0-ref  question0-total-cost question0-answer  \\\n",
       "0  question-mission59-agent4  313                   yes               \n",
       "1  question-mission45-agent7  224                   yes               \n",
       "2  question-mission25-agent2  143                   yes               \n",
       "3  question-mission56-agent0  206                   yes               \n",
       "4  question-mission34-agent1  198                   yes               \n",
       "\n",
       "  question0-confidence  question0-elapsedTime          ...            \\\n",
       "0  fairly               22331                          ...             \n",
       "1  fairly               30361                          ...             \n",
       "2  fairly               40740                          ...             \n",
       "3  fairly               18042                          ...             \n",
       "4  fairly               51333                          ...             \n",
       "\n",
       "               question2-ref  question2-total-cost question2-answer  \\\n",
       "0  question-mission42-agent7  673                   no                \n",
       "1  question-mission69-agent0  187                   no                \n",
       "2  question-mission52-agent7  181                   yes               \n",
       "3  question-mission79-agent0  252                   yes               \n",
       "4  question-mission14-agent0  154                   yes               \n",
       "\n",
       "  question2-confidence  question2-elapsedTime              question3-ref  \\\n",
       "0  fairly               18450                  question-mission66-agent0   \n",
       "1  somewhat             34956                  question-mission5-agent0    \n",
       "2  somewhat             18559                  question-mission11-agent0   \n",
       "3  somewhat             20281                  question-mission8-agent0    \n",
       "4  fairly               22397                  question-mission48-agent6   \n",
       "\n",
       "   question3-total-cost question3-answer question3-confidence  \\\n",
       "0  676                   yes              fairly                \n",
       "1  173                   yes              fairly                \n",
       "2  173                   yes              somewhat              \n",
       "3  209                   yes              fairly                \n",
       "4  163                   no               somewhat              \n",
       "\n",
       "   question3-elapsedTime  \n",
       "0  27725                  \n",
       "1  31508                  \n",
       "2  26885                  \n",
       "3  22578                  \n",
       "4  24789                  \n",
       "\n",
       "[5 rows x 25 columns]"
      ]
     },
     "execution_count": 116,
     "metadata": {},
     "output_type": "execute_result"
    }
   ],
   "source": [
    "df_assignments.head()"
   ]
  },
  {
   "cell_type": "code",
   "execution_count": 7,
   "metadata": {
    "collapsed": false
   },
   "outputs": [
    {
     "data": {
      "text/html": [
       "<div>\n",
       "<table border=\"1\" class=\"dataframe\">\n",
       "  <thead>\n",
       "    <tr style=\"text-align: right;\">\n",
       "      <th></th>\n",
       "      <th>ref</th>\n",
       "      <th>total-cost</th>\n",
       "      <th>answer</th>\n",
       "    </tr>\n",
       "  </thead>\n",
       "  <tbody>\n",
       "    <tr>\n",
       "      <th>0</th>\n",
       "      <td>question-mission59-agent4</td>\n",
       "      <td>708</td>\n",
       "      <td>no</td>\n",
       "    </tr>\n",
       "    <tr>\n",
       "      <th>1</th>\n",
       "      <td>question-mission80-agent0</td>\n",
       "      <td>108</td>\n",
       "      <td>yes</td>\n",
       "    </tr>\n",
       "    <tr>\n",
       "      <th>2</th>\n",
       "      <td>question-mission42-agent7</td>\n",
       "      <td>709</td>\n",
       "      <td>no</td>\n",
       "    </tr>\n",
       "    <tr>\n",
       "      <th>3</th>\n",
       "      <td>question-mission66-agent0</td>\n",
       "      <td>875</td>\n",
       "      <td>yes</td>\n",
       "    </tr>\n",
       "    <tr>\n",
       "      <th>4</th>\n",
       "      <td>question-mission45-agent7</td>\n",
       "      <td>220</td>\n",
       "      <td>no</td>\n",
       "    </tr>\n",
       "  </tbody>\n",
       "</table>\n",
       "</div>"
      ],
      "text/plain": [
       "                         ref  total-cost answer\n",
       "0  question-mission59-agent4         708     no\n",
       "1  question-mission80-agent0         108    yes\n",
       "2  question-mission42-agent7         709     no\n",
       "3  question-mission66-agent0         875    yes\n",
       "4  question-mission45-agent7         220     no"
      ]
     },
     "execution_count": 7,
     "metadata": {},
     "output_type": "execute_result"
    }
   ],
   "source": [
    "df_answers.head()"
   ]
  },
  {
   "cell_type": "code",
   "execution_count": 10,
   "metadata": {
    "collapsed": false
   },
   "outputs": [
    {
     "data": {
      "text/html": [
       "<div>\n",
       "<table border=\"1\" class=\"dataframe\">\n",
       "  <thead>\n",
       "    <tr style=\"text-align: right;\">\n",
       "      <th></th>\n",
       "      <th>ref</th>\n",
       "      <th>total-cost</th>\n",
       "      <th>answer</th>\n",
       "    </tr>\n",
       "  </thead>\n",
       "  <tbody>\n",
       "    <tr>\n",
       "      <th>0</th>\n",
       "      <td>question-mission59-agent4</td>\n",
       "      <td>708</td>\n",
       "      <td>no</td>\n",
       "    </tr>\n",
       "  </tbody>\n",
       "</table>\n",
       "</div>"
      ],
      "text/plain": [
       "                         ref  total-cost answer\n",
       "0  question-mission59-agent4         708     no"
      ]
     },
     "execution_count": 10,
     "metadata": {},
     "output_type": "execute_result"
    }
   ],
   "source": [
    "df_answers[df_answers.ref == 'question-mission59-agent4'].head()"
   ]
  },
  {
   "cell_type": "code",
   "execution_count": 33,
   "metadata": {
    "collapsed": false
   },
   "outputs": [
    {
     "data": {
      "text/plain": [
       "0      True\n",
       "1     False\n",
       "2     False\n",
       "3     False\n",
       "4     False\n",
       "5     False\n",
       "6     False\n",
       "7     False\n",
       "8     False\n",
       "9     False\n",
       "10    False\n",
       "11    False\n",
       "12    False\n",
       "13    False\n",
       "14    False\n",
       "15    False\n",
       "16    False\n",
       "17    False\n",
       "18    False\n",
       "19    False\n",
       "20    False\n",
       "21    False\n",
       "22    False\n",
       "23    False\n",
       "24    False\n",
       "25    False\n",
       "26    False\n",
       "27    False\n",
       "28    False\n",
       "29    False\n",
       "      ...  \n",
       "34    False\n",
       "35    False\n",
       "36    False\n",
       "37    False\n",
       "38    False\n",
       "39    False\n",
       "40    False\n",
       "41    False\n",
       "42    False\n",
       "43    False\n",
       "44    False\n",
       "45    False\n",
       "46    False\n",
       "47    False\n",
       "48    False\n",
       "49    False\n",
       "50    False\n",
       "51    False\n",
       "52    False\n",
       "53    False\n",
       "54    False\n",
       "55    False\n",
       "56    False\n",
       "57    False\n",
       "58    False\n",
       "59    False\n",
       "60    False\n",
       "61    False\n",
       "62    False\n",
       "63    False\n",
       "Name: ref, dtype: bool"
      ]
     },
     "execution_count": 33,
     "metadata": {},
     "output_type": "execute_result"
    }
   ],
   "source": [
    "df_answers.ref == 'question-mission59-agent4'"
   ]
  },
  {
   "cell_type": "code",
   "execution_count": 76,
   "metadata": {
    "collapsed": true
   },
   "outputs": [],
   "source": [
    "def create_columns(data_types, num_questions):\n",
    "    columns = ['Assignment ID']\n",
    "    for i in range(num_questions):\n",
    "        for data_type in data_types:\n",
    "            columns.append('question' + str(i) + \"-\" + data_type)\n",
    "    return columns"
   ]
  },
  {
   "cell_type": "code",
   "execution_count": 106,
   "metadata": {
    "collapsed": true
   },
   "outputs": [],
   "source": [
    "def create_data_type_columns(data_type, num_questions):\n",
    "    return ['question' + str(i) + '-' + data_type for i in range(num_questions)]"
   ]
  },
  {
   "cell_type": "code",
   "execution_count": 79,
   "metadata": {
    "collapsed": true
   },
   "outputs": [],
   "source": [
    "def create_dictionary():\n",
    "    return 0"
   ]
  },
  {
   "cell_type": "code",
   "execution_count": 129,
   "metadata": {
    "collapsed": false
   },
   "outputs": [
    {
     "name": "stdout",
     "output_type": "stream",
     "text": [
      "                     Assignment ID              question0-ref  \\\n",
      "0   37Q970SNZH7LE655SUAHKBOO7Z7S11  question-mission59-agent4   \n",
      "1   33M4IA01QJ0H3SQLKYVJPANTQC3RX4  question-mission45-agent7   \n",
      "2   3SNVL38CI7R7DQ2V3IQZALG5U2LKC2  question-mission25-agent2   \n",
      "3   3I2PTA7R3WTB7RCE80RUUQ5MYHMKQ7  question-mission56-agent0   \n",
      "4   3X66WABAJZHEY4ATKYUJJQKIH8RG3X  question-mission34-agent1   \n",
      "5   3OS46CRSLIYWDKN6SVR3QUZCEEHV67  question-mission12-agent0   \n",
      "6   3COPXFW7XEBQ7FBZ8NC5ULFCTL0KPG  question-mission78-agent2   \n",
      "7   3MX2NQ3YCCTSY5SNNRIGM9IXYUEX5W  question-mission67-agent2   \n",
      "8   3Z9WI9EOZ2NYUYDBPA40LCDL7UQHK8  question-mission58-agent4   \n",
      "9   3AMW0RGHOG1RFLW2504LMDWGNG5PNQ  question-mission9-agent1    \n",
      "10  3OSWBBLG1HWN2I7G2X0ZKL6PBBCXD4  question-mission68-agent0   \n",
      "11  3EKVH9QME13M124JE8F6UVCTY2BD29  question-mission46-agent7   \n",
      "12  3DBQWDE4Y9XNMBEJLLV7O7RZWG4N52  question-mission35-agent0   \n",
      "13  3N1FSUEFL8ZW4GJ6IMYUNA9RIG7D45  question-mission57-agent0   \n",
      "14  3S06PH7KSU3FCHMNV4FSPC2O6WXD1S  question-mission24-agent0   \n",
      "15  3V0Z7YWSI1Z8VJ455TF00HI0Y9FV2Q  question-mission13-agent0   \n",
      "\n",
      "    question0-total-cost question0-answer              question1-ref  \\\n",
      "0   0.557910              False            question-mission80-agent0   \n",
      "1   0.018182              False            question-mission81-agent0   \n",
      "2   0.302439              False            question-mission82-agent0   \n",
      "3   0.219697              True             question-mission83-agent1   \n",
      "4   0.020619              False            question-mission84-agent0   \n",
      "5   0.247573              True             question-mission85-agent0   \n",
      "6   0.447644              False            question-mission86-agent1   \n",
      "7   0.023952              False            question-mission87-agent1   \n",
      "8   0.525000              False            question-mission88-agent1   \n",
      "9   0.524064              False            question-mission89-agent0   \n",
      "10  0.196302              True             question-mission90-agent1   \n",
      "11  0.042373              False            question-mission91-agent1   \n",
      "12  0.031847              True             question-mission92-agent0   \n",
      "13  0.319820              True             question-mission93-agent0   \n",
      "14  1.058642              False            question-mission94-agent0   \n",
      "15  0.620865              True             question-mission95-agent0   \n",
      "\n",
      "    question1-total-cost question1-answer              question2-ref  \\\n",
      "0   0.000000              True             question-mission42-agent7   \n",
      "1   0.000000              True             question-mission69-agent0   \n",
      "2   0.000000              True             question-mission52-agent7   \n",
      "3   0.578199              True             question-mission79-agent0   \n",
      "4   0.000000              True             question-mission14-agent0   \n",
      "5   0.000000              True             question-mission26-agent0   \n",
      "6   0.607639              True             question-mission7-agent0    \n",
      "7   0.325203              True             question-mission43-agent0   \n",
      "8   0.573770              True             question-mission41-agent0   \n",
      "9   0.000000              True             question-mission23-agent0   \n",
      "10  0.664809              True             question-mission20-agent3   \n",
      "11  0.660622              True             question-mission63-agent8   \n",
      "12  0.000000              True             question-mission15-agent0   \n",
      "13  0.000000              True             question-mission47-agent6   \n",
      "14  4.092593              False            question-mission37-agent0   \n",
      "15  0.000000              True             question-mission75-agent0   \n",
      "\n",
      "    question2-total-cost question2-answer              question3-ref  \\\n",
      "0   0.050776              True             question-mission66-agent0   \n",
      "1   0.153846              False            question-mission5-agent0    \n",
      "2   0.195556              False            question-mission11-agent0   \n",
      "3   0.179153              True             question-mission8-agent0    \n",
      "4   0.077844              True             question-mission48-agent6   \n",
      "5   0.086705              True             question-mission74-agent2   \n",
      "6   0.543860              True             question-mission32-agent0   \n",
      "7   0.054795              False            question-mission3-agent3    \n",
      "8   0.474708              False            question-mission65-agent2   \n",
      "9   0.304348              True             question-mission36-agent6   \n",
      "10  0.816981              False            question-mission44-agent6   \n",
      "11  0.672566              True             question-mission64-agent1   \n",
      "12  0.261317              True             question-mission31-agent6   \n",
      "13  0.165919              False            question-mission6-agent1    \n",
      "14  1.458599              True             question-mission10-agent0   \n",
      "15  0.137313              True             question-mission54-agent0   \n",
      "\n",
      "    question3-total-cost question3-answer  \n",
      "0   0.227429              True             \n",
      "1   0.305221              True             \n",
      "2   0.147783              True             \n",
      "3   0.414566              True             \n",
      "4   0.041176              True             \n",
      "5   0.060302              False            \n",
      "6   0.417763              True             \n",
      "7   0.104046              False            \n",
      "8   0.481595              False            \n",
      "9   0.677138              True             \n",
      "10  0.499253              True             \n",
      "11  0.372093              False            \n",
      "12  0.228288              True             \n",
      "13  0.239130              False            \n",
      "14  0.011858              True             \n",
      "15  0.151815              True             \n"
     ]
    }
   ],
   "source": [
    "accuracy_columns = create_columns(['ref', 'total-cost', 'answer'], 4)\n",
    "df_accuracy = pd.DataFrame(columns=accuracy_columns)\n",
    "\n",
    "for index, row in df_assignments.iterrows():\n",
    "    ref_columns = create_data_type_columns('ref', 4)\n",
    "    df_answer_key = df_answers[df_answers.ref.isin(row[ref_columns])]\n",
    "\n",
    "    total_cost_columns = create_data_type_columns('total-cost', 4)\n",
    "    answer_columns = create_data_type_columns('answer', 4)\n",
    "    worker_acc_dict = {'Assignment ID': row['Assignment ID']}\n",
    "    for i in range(4):\n",
    "        ref_column = ref_columns[i] # question[i]-ref\n",
    "        total_cost_column = total_cost_columns[i] # question[i]-total-cost\n",
    "        answer_column = answer_columns[i] # question[i]-answer\n",
    "        \n",
    "        worker_total_cost = row[total_cost_column]\n",
    "        correct_total_cost = df_answer_key[df_answer_key.ref == row[ref_column]].iloc[0]['total-cost']\n",
    "        total_cost_err = abs((correct_total_cost - worker_total_cost) / correct_total_cost)\n",
    "        \n",
    "        worker_answer = row[answer_column]\n",
    "        correct_answer = df_answer_key[df_answer_key.ref == row[ref_column]].iloc[0]['answer']\n",
    "        answer_acc = worker_answer == correct_answer\n",
    "        \n",
    "        worker_acc_dict[ref_column] = row[ref_column]\n",
    "        worker_acc_dict[total_cost_column] = total_cost_err\n",
    "        worker_acc_dict[answer_column] = answer_acc\n",
    "        \n",
    "        #print(worker_acc_dict)\n",
    "    #break\n",
    "    \n",
    "    answer_value = row['question0-total-cost']\n",
    "    expected_value = df_answer_key.iloc[0]['total-cost']\n",
    "    total_cost_diff = abs((expected_value - answer_value) / expected_value)\n",
    "    correct = row['question0-answer'] == df_answer_key.iloc[0]['answer']\n",
    "    dic = {'Assignment ID': row['Assignment ID'], \n",
    "           'question0-ref': row['question0-ref'], \n",
    "           'question0-total-cost difference': total_cost_diff, \n",
    "           'question0-answer correct?': correct}\n",
    "    df_accuracy = df_accuracy.append(worker_acc_dict, ignore_index=True)\n",
    "print(df_accuracy.head(16))"
   ]
  },
  {
   "cell_type": "code",
   "execution_count": 130,
   "metadata": {
    "collapsed": false
   },
   "outputs": [
    {
     "name": "stderr",
     "output_type": "stream",
     "text": [
      "//anaconda/lib/python3.5/site-packages/ipykernel/__main__.py:1: FutureWarning: \n",
      "The default value for 'return_type' will change to 'axes' in a future release.\n",
      " To use the future behavior now, set return_type='axes'.\n",
      " To keep the previous behavior and silence this warning, set return_type='dict'.\n",
      "  if __name__ == '__main__':\n"
     ]
    },
    {
     "data": {
      "image/png": "[encoded data removed]",
      "text/plain": [
       "<matplotlib.figure.Figure at 0x128086be0>"
      ]
     },
     "metadata": {},
     "output_type": "display_data"
    }
   ],
   "source": [
    "plot = df_accuracy.boxplot(column=['question0-total-cost'])"
   ]
  },
  {
   "cell_type": "code",
   "execution_count": 131,
   "metadata": {
    "collapsed": false
   },
   "outputs": [
    {
     "name": "stderr",
     "output_type": "stream",
     "text": [
      "//anaconda/lib/python3.5/site-packages/ipykernel/__main__.py:1: FutureWarning: \n",
      "The default value for 'return_type' will change to 'axes' in a future release.\n",
      " To use the future behavior now, set return_type='axes'.\n",
      " To keep the previous behavior and silence this warning, set return_type='dict'.\n",
      "  if __name__ == '__main__':\n"
     ]
    },
    {
     "data": {
      "image/png": "[encoded data removed]",
      "text/plain": [
       "<matplotlib.figure.Figure at 0x1280cfb70>"
      ]
     },
     "metadata": {},
     "output_type": "display_data"
    }
   ],
   "source": [
    "plot = df_accuracy.boxplot(column=['question1-total-cost'])"
   ]
  },
  {
   "cell_type": "code",
   "execution_count": 132,
   "metadata": {
    "collapsed": false
   },
   "outputs": [
    {
     "name": "stderr",
     "output_type": "stream",
     "text": [
      "//anaconda/lib/python3.5/site-packages/ipykernel/__main__.py:1: FutureWarning: \n",
      "The default value for 'return_type' will change to 'axes' in a future release.\n",
      " To use the future behavior now, set return_type='axes'.\n",
      " To keep the previous behavior and silence this warning, set return_type='dict'.\n",
      "  if __name__ == '__main__':\n"
     ]
    },
    {
     "data": {
      "image/png": "[encoded data removed]",
      "text/plain": [
       "<matplotlib.figure.Figure at 0x12827b780>"
      ]
     },
     "metadata": {},
     "output_type": "display_data"
    }
   ],
   "source": [
    "plot = df_accuracy.boxplot(column=['question2-total-cost'])"
   ]
  },
  {
   "cell_type": "code",
   "execution_count": 133,
   "metadata": {
    "collapsed": false
   },
   "outputs": [
    {
     "name": "stderr",
     "output_type": "stream",
     "text": [
      "//anaconda/lib/python3.5/site-packages/ipykernel/__main__.py:1: FutureWarning: \n",
      "The default value for 'return_type' will change to 'axes' in a future release.\n",
      " To use the future behavior now, set return_type='axes'.\n",
      " To keep the previous behavior and silence this warning, set return_type='dict'.\n",
      "  if __name__ == '__main__':\n"
     ]
    },
    {
     "data": {
      "image/png": "[encoded data removed]",
      "text/plain": [
       "<matplotlib.figure.Figure at 0x1280790f0>"
      ]
     },
     "metadata": {},
     "output_type": "display_data"
    }
   ],
   "source": [
    "plot = df_accuracy.boxplot(column=['question3-total-cost'])"
   ]
  },
  {
   "cell_type": "code",
   "execution_count": 136,
   "metadata": {
    "collapsed": false
   },
   "outputs": [
    {
     "data": {
      "text/plain": [
       "<matplotlib.text.Text at 0x12835d7b8>"
      ]
     },
     "execution_count": 136,
     "metadata": {},
     "output_type": "execute_result"
    },
    {
     "data": {
      "image/png": "[encoded data removed]",
      "text/plain": [
       "<matplotlib.figure.Figure at 0x12c655b70>"
      ]
     },
     "metadata": {},
     "output_type": "display_data"
    }
   ],
   "source": [
    "fig, axes = plt.subplots()\n",
    "# plot violin. 'Scenario' is according to x axis, \n",
    "# 'LMP' is y axis, data is your dataframe. ax - is axes instance\n",
    "\n",
    "sns.violinplot(y=df_accuracy['question0-total-cost'], bw=0.5, inner=\"quartile\")\n",
    "axes.set_ylabel('accuracy')"
   ]
  },
  {
   "cell_type": "code",
   "execution_count": null,
   "metadata": {
    "collapsed": true
   },
   "outputs": [],
   "source": []
  }
 ],
 "metadata": {
  "anaconda-cloud": {},
  "kernelspec": {
   "display_name": "Python [anaconda]",
   "language": "python",
   "name": "Python [anaconda]"
  },
  "language_info": {
   "codemirror_mode": {
    "name": "ipython",
    "version": 3
   },
   "file_extension": ".py",
   "mimetype": "text/x-python",
   "name": "python",
   "nbconvert_exporter": "python",
   "pygments_lexer": "ipython3",
   "version": "3.5.2"
  }
 },
 "nbformat": 4,
 "nbformat_minor": 0
}
